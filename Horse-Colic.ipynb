{
 "cells": [
  {
   "cell_type": "markdown",
   "metadata": {},
   "source": [
    "# Horse-Colic Dataset from UCI Machine Learning Repository"
   ]
  },
  {
   "cell_type": "markdown",
   "metadata": {},
   "source": [
    "## Importing Train data "
   ]
  },
  {
   "cell_type": "code",
   "execution_count": 100,
   "metadata": {
    "scrolled": true
   },
   "outputs": [],
   "source": [
    "import pandas as pd\n",
    "columns = ['surgery','Age','Hospital ID','rectal temperature','pulse','respiratory rate','temperature of extremities','peripheral pulse',\"mucous membranes\",'capillary refill time','pain','peristalsis','abdominal distension','nasogastric tube','nasogastric reflux','nasogastric reflux PH','rectal examination - feces','abdomen',' packed cell volume','total protein','abdominocentesis appearance','abdomcentesis total protein','outcome','surgical lesion?','1','2','3','path']\n",
    "df = pd.read_csv('https://archive.ics.uci.edu/ml/machine-learning-databases/horse-colic/horse-colic.data', sep = ' ', header = None, na_values='?', names = columns)"
   ]
  },
  {
   "cell_type": "code",
   "execution_count": 101,
   "metadata": {
    "scrolled": false
   },
   "outputs": [
    {
     "data": {
      "text/html": [
       "<div>\n",
       "<style scoped>\n",
       "    .dataframe tbody tr th:only-of-type {\n",
       "        vertical-align: middle;\n",
       "    }\n",
       "\n",
       "    .dataframe tbody tr th {\n",
       "        vertical-align: top;\n",
       "    }\n",
       "\n",
       "    .dataframe thead th {\n",
       "        text-align: right;\n",
       "    }\n",
       "</style>\n",
       "<table border=\"1\" class=\"dataframe\">\n",
       "  <thead>\n",
       "    <tr style=\"text-align: right;\">\n",
       "      <th></th>\n",
       "      <th>surgery</th>\n",
       "      <th>Age</th>\n",
       "      <th>Hospital ID</th>\n",
       "      <th>rectal temperature</th>\n",
       "      <th>pulse</th>\n",
       "      <th>respiratory rate</th>\n",
       "      <th>temperature of extremities</th>\n",
       "      <th>peripheral pulse</th>\n",
       "      <th>mucous membranes</th>\n",
       "      <th>capillary refill time</th>\n",
       "      <th>...</th>\n",
       "      <th>packed cell volume</th>\n",
       "      <th>total protein</th>\n",
       "      <th>abdominocentesis appearance</th>\n",
       "      <th>abdomcentesis total protein</th>\n",
       "      <th>outcome</th>\n",
       "      <th>surgical lesion?</th>\n",
       "      <th>1</th>\n",
       "      <th>2</th>\n",
       "      <th>3</th>\n",
       "      <th>path</th>\n",
       "    </tr>\n",
       "  </thead>\n",
       "  <tbody>\n",
       "    <tr>\n",
       "      <th>0</th>\n",
       "      <td>2.0</td>\n",
       "      <td>1</td>\n",
       "      <td>530101</td>\n",
       "      <td>38.5</td>\n",
       "      <td>66.0</td>\n",
       "      <td>28.0</td>\n",
       "      <td>3.0</td>\n",
       "      <td>3.0</td>\n",
       "      <td>NaN</td>\n",
       "      <td>2.0</td>\n",
       "      <td>...</td>\n",
       "      <td>45.0</td>\n",
       "      <td>8.4</td>\n",
       "      <td>NaN</td>\n",
       "      <td>NaN</td>\n",
       "      <td>2.0</td>\n",
       "      <td>2</td>\n",
       "      <td>11300</td>\n",
       "      <td>0</td>\n",
       "      <td>0</td>\n",
       "      <td>2</td>\n",
       "    </tr>\n",
       "    <tr>\n",
       "      <th>1</th>\n",
       "      <td>1.0</td>\n",
       "      <td>1</td>\n",
       "      <td>534817</td>\n",
       "      <td>39.2</td>\n",
       "      <td>88.0</td>\n",
       "      <td>20.0</td>\n",
       "      <td>NaN</td>\n",
       "      <td>NaN</td>\n",
       "      <td>4.0</td>\n",
       "      <td>1.0</td>\n",
       "      <td>...</td>\n",
       "      <td>50.0</td>\n",
       "      <td>85.0</td>\n",
       "      <td>2.0</td>\n",
       "      <td>2.0</td>\n",
       "      <td>3.0</td>\n",
       "      <td>2</td>\n",
       "      <td>2208</td>\n",
       "      <td>0</td>\n",
       "      <td>0</td>\n",
       "      <td>2</td>\n",
       "    </tr>\n",
       "    <tr>\n",
       "      <th>2</th>\n",
       "      <td>2.0</td>\n",
       "      <td>1</td>\n",
       "      <td>530334</td>\n",
       "      <td>38.3</td>\n",
       "      <td>40.0</td>\n",
       "      <td>24.0</td>\n",
       "      <td>1.0</td>\n",
       "      <td>1.0</td>\n",
       "      <td>3.0</td>\n",
       "      <td>1.0</td>\n",
       "      <td>...</td>\n",
       "      <td>33.0</td>\n",
       "      <td>6.7</td>\n",
       "      <td>NaN</td>\n",
       "      <td>NaN</td>\n",
       "      <td>1.0</td>\n",
       "      <td>2</td>\n",
       "      <td>0</td>\n",
       "      <td>0</td>\n",
       "      <td>0</td>\n",
       "      <td>1</td>\n",
       "    </tr>\n",
       "    <tr>\n",
       "      <th>3</th>\n",
       "      <td>1.0</td>\n",
       "      <td>9</td>\n",
       "      <td>5290409</td>\n",
       "      <td>39.1</td>\n",
       "      <td>164.0</td>\n",
       "      <td>84.0</td>\n",
       "      <td>4.0</td>\n",
       "      <td>1.0</td>\n",
       "      <td>6.0</td>\n",
       "      <td>2.0</td>\n",
       "      <td>...</td>\n",
       "      <td>48.0</td>\n",
       "      <td>7.2</td>\n",
       "      <td>3.0</td>\n",
       "      <td>5.3</td>\n",
       "      <td>2.0</td>\n",
       "      <td>1</td>\n",
       "      <td>2208</td>\n",
       "      <td>0</td>\n",
       "      <td>0</td>\n",
       "      <td>1</td>\n",
       "    </tr>\n",
       "    <tr>\n",
       "      <th>4</th>\n",
       "      <td>2.0</td>\n",
       "      <td>1</td>\n",
       "      <td>530255</td>\n",
       "      <td>37.3</td>\n",
       "      <td>104.0</td>\n",
       "      <td>35.0</td>\n",
       "      <td>NaN</td>\n",
       "      <td>NaN</td>\n",
       "      <td>6.0</td>\n",
       "      <td>2.0</td>\n",
       "      <td>...</td>\n",
       "      <td>74.0</td>\n",
       "      <td>7.4</td>\n",
       "      <td>NaN</td>\n",
       "      <td>NaN</td>\n",
       "      <td>2.0</td>\n",
       "      <td>2</td>\n",
       "      <td>4300</td>\n",
       "      <td>0</td>\n",
       "      <td>0</td>\n",
       "      <td>2</td>\n",
       "    </tr>\n",
       "  </tbody>\n",
       "</table>\n",
       "<p>5 rows × 28 columns</p>\n",
       "</div>"
      ],
      "text/plain": [
       "   surgery  Age  Hospital ID  rectal temperature  pulse  respiratory rate  \\\n",
       "0      2.0    1       530101                38.5   66.0              28.0   \n",
       "1      1.0    1       534817                39.2   88.0              20.0   \n",
       "2      2.0    1       530334                38.3   40.0              24.0   \n",
       "3      1.0    9      5290409                39.1  164.0              84.0   \n",
       "4      2.0    1       530255                37.3  104.0              35.0   \n",
       "\n",
       "   temperature of extremities  peripheral pulse  mucous membranes  \\\n",
       "0                         3.0               3.0               NaN   \n",
       "1                         NaN               NaN               4.0   \n",
       "2                         1.0               1.0               3.0   \n",
       "3                         4.0               1.0               6.0   \n",
       "4                         NaN               NaN               6.0   \n",
       "\n",
       "   capillary refill time  ...   packed cell volume  total protein  \\\n",
       "0                    2.0  ...                 45.0            8.4   \n",
       "1                    1.0  ...                 50.0           85.0   \n",
       "2                    1.0  ...                 33.0            6.7   \n",
       "3                    2.0  ...                 48.0            7.2   \n",
       "4                    2.0  ...                 74.0            7.4   \n",
       "\n",
       "   abdominocentesis appearance  abdomcentesis total protein  outcome  \\\n",
       "0                          NaN                          NaN      2.0   \n",
       "1                          2.0                          2.0      3.0   \n",
       "2                          NaN                          NaN      1.0   \n",
       "3                          3.0                          5.3      2.0   \n",
       "4                          NaN                          NaN      2.0   \n",
       "\n",
       "   surgical lesion?      1  2  3  path  \n",
       "0                 2  11300  0  0     2  \n",
       "1                 2   2208  0  0     2  \n",
       "2                 2      0  0  0     1  \n",
       "3                 1   2208  0  0     1  \n",
       "4                 2   4300  0  0     2  \n",
       "\n",
       "[5 rows x 28 columns]"
      ]
     },
     "execution_count": 101,
     "metadata": {},
     "output_type": "execute_result"
    }
   ],
   "source": [
    "df.head()"
   ]
  },
  {
   "cell_type": "code",
   "execution_count": 102,
   "metadata": {},
   "outputs": [
    {
     "data": {
      "text/plain": [
       "28"
      ]
     },
     "execution_count": 102,
     "metadata": {},
     "output_type": "execute_result"
    }
   ],
   "source": [
    "len(df.columns)"
   ]
  },
  {
   "cell_type": "code",
   "execution_count": 103,
   "metadata": {
    "scrolled": true
   },
   "outputs": [
    {
     "name": "stdout",
     "output_type": "stream",
     "text": [
      "<class 'pandas.core.frame.DataFrame'>\n",
      "RangeIndex: 300 entries, 0 to 299\n",
      "Data columns (total 28 columns):\n",
      " #   Column                       Non-Null Count  Dtype  \n",
      "---  ------                       --------------  -----  \n",
      " 0   surgery                      299 non-null    float64\n",
      " 1   Age                          300 non-null    int64  \n",
      " 2   Hospital ID                  300 non-null    int64  \n",
      " 3   rectal temperature           240 non-null    float64\n",
      " 4   pulse                        276 non-null    float64\n",
      " 5   respiratory rate             242 non-null    float64\n",
      " 6   temperature of extremities   244 non-null    float64\n",
      " 7   peripheral pulse             231 non-null    float64\n",
      " 8   mucous membranes             253 non-null    float64\n",
      " 9   capillary refill time        268 non-null    float64\n",
      " 10  pain                         245 non-null    float64\n",
      " 11  peristalsis                  256 non-null    float64\n",
      " 12  abdominal distension         244 non-null    float64\n",
      " 13  nasogastric tube             196 non-null    float64\n",
      " 14  nasogastric reflux           194 non-null    float64\n",
      " 15  nasogastric reflux PH        53 non-null     float64\n",
      " 16  rectal examination - feces   198 non-null    float64\n",
      " 17  abdomen                      182 non-null    float64\n",
      " 18   packed cell volume          271 non-null    float64\n",
      " 19  total protein                267 non-null    float64\n",
      " 20  abdominocentesis appearance  135 non-null    float64\n",
      " 21  abdomcentesis total protein  102 non-null    float64\n",
      " 22  outcome                      299 non-null    float64\n",
      " 23  surgical lesion?             300 non-null    int64  \n",
      " 24  1                            300 non-null    int64  \n",
      " 25  2                            300 non-null    int64  \n",
      " 26  3                            300 non-null    int64  \n",
      " 27  path                         300 non-null    int64  \n",
      "dtypes: float64(21), int64(7)\n",
      "memory usage: 65.8 KB\n"
     ]
    }
   ],
   "source": [
    "df.info()"
   ]
  },
  {
   "cell_type": "markdown",
   "metadata": {},
   "source": [
    "## Cleaning Train dataset"
   ]
  },
  {
   "cell_type": "code",
   "execution_count": 104,
   "metadata": {},
   "outputs": [],
   "source": [
    "#Dropping columns having significant number of NaN values\n",
    "df.drop('nasogastric reflux PH', axis=1, inplace = True)\n",
    "df.drop('abdomcentesis total protein', axis=1, inplace = True)\n",
    "df.drop('abdominocentesis appearance', axis=1, inplace = True)\n",
    "df.drop('nasogastric tube', axis=1, inplace = True)\n",
    "df.drop('abdomen', axis=1, inplace = True)\n",
    "df.drop('rectal examination - feces', axis=1, inplace = True)"
   ]
  },
  {
   "cell_type": "code",
   "execution_count": 105,
   "metadata": {},
   "outputs": [],
   "source": [
    "df['Age'].replace({9:2}, inplace = True)\n",
    "df['outcome'].replace({1:'lived', 2:'died', 3:'euthenized'}, inplace = True)\n",
    "df['Age'].replace({1:'Adult', 2:'Young'}, inplace = True)\n",
    "df['pain'].replace({1:'No Pain', 2:'Depressed', 3:'Mild pain', 4:'Severe Pain', 5:'Greaterthansevere'}, inplace = True)"
   ]
  },
  {
   "cell_type": "code",
   "execution_count": 106,
   "metadata": {},
   "outputs": [
    {
     "data": {
      "text/plain": [
       "<AxesSubplot:>"
      ]
     },
     "execution_count": 106,
     "metadata": {},
     "output_type": "execute_result"
    },
    {
     "data": {
      "image/png": "[encoded data removed]",
      "text/plain": [
       "<Figure size 432x288 with 1 Axes>"
      ]
     },
     "metadata": {
      "needs_background": "light"
     },
     "output_type": "display_data"
    }
   ],
   "source": [
    "#Heatmap for missing values\n",
    "sns.heatmap(df.isnull(), cbar=False)"
   ]
  },
  {
   "cell_type": "code",
   "execution_count": 7,
   "metadata": {},
   "outputs": [
    {
     "name": "stdout",
     "output_type": "stream",
     "text": [
      "surgery                         1\n",
      "Age                             0\n",
      "Hospital ID                     0\n",
      "rectal temperature             60\n",
      "pulse                          24\n",
      "respiratory rate               58\n",
      "temperature of extremities     56\n",
      "peripheral pulse               69\n",
      "mucous membranes               47\n",
      "capillary refill time          32\n",
      "pain                           55\n",
      "peristalsis                    44\n",
      "abdominal distension           56\n",
      "nasogastric reflux            106\n",
      " packed cell volume            29\n",
      "total protein                  33\n",
      "outcome                         1\n",
      "surgical lesion?                0\n",
      "1                               0\n",
      "2                               0\n",
      "3                               0\n",
      "path                            0\n",
      "dtype: int64\n"
     ]
    },
    {
     "data": {
      "image/png": "[encoded data removed]",
      "text/plain": [
       "<Figure size 1440x720 with 1 Axes>"
      ]
     },
     "metadata": {
      "needs_background": "light"
     },
     "output_type": "display_data"
    }
   ],
   "source": [
    "#BarGraph of missing values for clearer visualisation\n",
    "null = df.isnull().sum()\n",
    "\n",
    "from matplotlib import pyplot as plt\n",
    "\n",
    "plt.figure(figsize=(20,10))\n",
    "plt.bar(range(len(null)),null)\n",
    "plt.xlabel('Features')\n",
    "plt.ylabel('missing')\n",
    "plt.xticks(list(range(len(df.columns))), list(df.columns.values), rotation='vertical')\n",
    "plt.show\n",
    "\n",
    "print(null)"
   ]
  },
  {
   "cell_type": "code",
   "execution_count": 8,
   "metadata": {
    "scrolled": true
   },
   "outputs": [
    {
     "data": {
      "text/html": [
       "<div>\n",
       "<style scoped>\n",
       "    .dataframe tbody tr th:only-of-type {\n",
       "        vertical-align: middle;\n",
       "    }\n",
       "\n",
       "    .dataframe tbody tr th {\n",
       "        vertical-align: top;\n",
       "    }\n",
       "\n",
       "    .dataframe thead th {\n",
       "        text-align: right;\n",
       "    }\n",
       "</style>\n",
       "<table border=\"1\" class=\"dataframe\">\n",
       "  <thead>\n",
       "    <tr style=\"text-align: right;\">\n",
       "      <th></th>\n",
       "      <th>NA</th>\n",
       "    </tr>\n",
       "  </thead>\n",
       "  <tbody>\n",
       "    <tr>\n",
       "      <th>surgery</th>\n",
       "      <td>1</td>\n",
       "    </tr>\n",
       "    <tr>\n",
       "      <th>rectal temperature</th>\n",
       "      <td>60</td>\n",
       "    </tr>\n",
       "    <tr>\n",
       "      <th>pulse</th>\n",
       "      <td>24</td>\n",
       "    </tr>\n",
       "    <tr>\n",
       "      <th>respiratory rate</th>\n",
       "      <td>58</td>\n",
       "    </tr>\n",
       "    <tr>\n",
       "      <th>temperature of extremities</th>\n",
       "      <td>56</td>\n",
       "    </tr>\n",
       "    <tr>\n",
       "      <th>peripheral pulse</th>\n",
       "      <td>69</td>\n",
       "    </tr>\n",
       "    <tr>\n",
       "      <th>mucous membranes</th>\n",
       "      <td>47</td>\n",
       "    </tr>\n",
       "    <tr>\n",
       "      <th>capillary refill time</th>\n",
       "      <td>32</td>\n",
       "    </tr>\n",
       "    <tr>\n",
       "      <th>pain</th>\n",
       "      <td>55</td>\n",
       "    </tr>\n",
       "    <tr>\n",
       "      <th>peristalsis</th>\n",
       "      <td>44</td>\n",
       "    </tr>\n",
       "    <tr>\n",
       "      <th>abdominal distension</th>\n",
       "      <td>56</td>\n",
       "    </tr>\n",
       "    <tr>\n",
       "      <th>nasogastric reflux</th>\n",
       "      <td>106</td>\n",
       "    </tr>\n",
       "    <tr>\n",
       "      <th>packed cell volume</th>\n",
       "      <td>29</td>\n",
       "    </tr>\n",
       "    <tr>\n",
       "      <th>total protein</th>\n",
       "      <td>33</td>\n",
       "    </tr>\n",
       "    <tr>\n",
       "      <th>outcome</th>\n",
       "      <td>1</td>\n",
       "    </tr>\n",
       "  </tbody>\n",
       "</table>\n",
       "</div>"
      ],
      "text/plain": [
       "                             NA\n",
       "surgery                       1\n",
       "rectal temperature           60\n",
       "pulse                        24\n",
       "respiratory rate             58\n",
       "temperature of extremities   56\n",
       "peripheral pulse             69\n",
       "mucous membranes             47\n",
       "capillary refill time        32\n",
       "pain                         55\n",
       "peristalsis                  44\n",
       "abdominal distension         56\n",
       "nasogastric reflux          106\n",
       " packed cell volume          29\n",
       "total protein                33\n",
       "outcome                       1"
      ]
     },
     "execution_count": 8,
     "metadata": {},
     "output_type": "execute_result"
    }
   ],
   "source": [
    "#Columns containing NaN values\n",
    "null = pd.concat([df.isnull().sum()], axis = 1, keys = ['NA'] )\n",
    "null.loc[(null.NA>0)]"
   ]
  },
  {
   "cell_type": "code",
   "execution_count": 9,
   "metadata": {
    "scrolled": true
   },
   "outputs": [
    {
     "name": "stdout",
     "output_type": "stream",
     "text": [
      "rectal temperature\n",
      "pulse\n",
      "respiratory rate\n",
      "mucous membranes\n",
      " packed cell volume\n",
      "total protein\n"
     ]
    }
   ],
   "source": [
    "#Filtering columns having continous variables \n",
    "for col in df.columns.values:\n",
    "    if (len(df[col].value_counts())> 5) and (df[col].isnull().sum() > 0):\n",
    "        print(col)"
   ]
  },
  {
   "cell_type": "code",
   "execution_count": 107,
   "metadata": {},
   "outputs": [],
   "source": [
    "#Filling columns containing continous variables with MEAN\n",
    "df['surgery'].fillna(df['surgery'].mode()[0], inplace = True)\n",
    "df['rectal temperature'].fillna(df['rectal temperature'].mean(), inplace = True)\n",
    "df['pulse'].fillna(df['pulse'].mean(), inplace = True)\n",
    "df['respiratory rate'].fillna(df['pulse'].mean(), inplace = True)\n",
    "df['mucous membranes'].fillna(df['pulse'].mean(), inplace = True)\n",
    "df[' packed cell volume'].fillna(df['pulse'].mean(), inplace = True)\n",
    "df['total protein'].fillna(df['total protein'].mean(), inplace = True)\n",
    "\n",
    "##Filling columns containing categorical variables with MODE\n",
    "for col in df.columns.values:\n",
    "    if (df[col].isnull().sum()>0):  \n",
    "        if (df[col].dtype == 'float64'):\n",
    "            df[col].fillna(df[col].mode()[0], inplace = True)"
   ]
  },
  {
   "cell_type": "code",
   "execution_count": 108,
   "metadata": {
    "scrolled": true
   },
   "outputs": [
    {
     "data": {
      "text/html": [
       "<div>\n",
       "<style scoped>\n",
       "    .dataframe tbody tr th:only-of-type {\n",
       "        vertical-align: middle;\n",
       "    }\n",
       "\n",
       "    .dataframe tbody tr th {\n",
       "        vertical-align: top;\n",
       "    }\n",
       "\n",
       "    .dataframe thead th {\n",
       "        text-align: right;\n",
       "    }\n",
       "</style>\n",
       "<table border=\"1\" class=\"dataframe\">\n",
       "  <thead>\n",
       "    <tr style=\"text-align: right;\">\n",
       "      <th></th>\n",
       "      <th>NA</th>\n",
       "    </tr>\n",
       "  </thead>\n",
       "  <tbody>\n",
       "    <tr>\n",
       "      <th>pain</th>\n",
       "      <td>55</td>\n",
       "    </tr>\n",
       "    <tr>\n",
       "      <th>outcome</th>\n",
       "      <td>1</td>\n",
       "    </tr>\n",
       "  </tbody>\n",
       "</table>\n",
       "</div>"
      ],
      "text/plain": [
       "         NA\n",
       "pain     55\n",
       "outcome   1"
      ]
     },
     "execution_count": 108,
     "metadata": {},
     "output_type": "execute_result"
    }
   ],
   "source": [
    "null = pd.concat([df.isnull().sum()], axis = 1, keys = ['NA'])\n",
    "null.loc[(null['NA']>0)]               "
   ]
  },
  {
   "cell_type": "markdown",
   "metadata": {},
   "source": [
    "# For a better insight and efficiency let's find correlation between features and \"outcome\" which is our target variable"
   ]
  },
  {
   "cell_type": "code",
   "execution_count": 109,
   "metadata": {
    "scrolled": true
   },
   "outputs": [
    {
     "name": "stdout",
     "output_type": "stream",
     "text": [
      "lived         178\n",
      "died           77\n",
      "euthenized     44\n",
      "Name: outcome, dtype: int64\n"
     ]
    },
    {
     "data": {
      "image/png": "[encoded data removed]",
      "text/plain": [
       "<Figure size 432x288 with 1 Axes>"
      ]
     },
     "metadata": {
      "needs_background": "light"
     },
     "output_type": "display_data"
    }
   ],
   "source": [
    "\n",
    "import seaborn as sns\n",
    "sns.countplot(data=df, x=\"outcome\");\n",
    "print(df.outcome.value_counts())"
   ]
  },
  {
   "cell_type": "code",
   "execution_count": 14,
   "metadata": {},
   "outputs": [
    {
     "data": {
      "text/plain": [
       "<AxesSubplot:xlabel='outcome', ylabel='count'>"
      ]
     },
     "execution_count": 14,
     "metadata": {},
     "output_type": "execute_result"
    },
    {
     "data": {
      "image/png": "[encoded data removed]",
      "text/plain": [
       "<Figure size 432x288 with 1 Axes>"
      ]
     },
     "metadata": {
      "needs_background": "light"
     },
     "output_type": "display_data"
    }
   ],
   "source": [
    "#Finding relations between features and taget variable(outcome) by visualising data\n",
    "#Relation between outcome and degree of pain experienced by the horse\n",
    "sns.countplot(data=df, x='outcome', hue = 'pain')\n"
   ]
  },
  {
   "cell_type": "code",
   "execution_count": 15,
   "metadata": {},
   "outputs": [
    {
     "data": {
      "text/plain": [
       "<AxesSubplot:xlabel='outcome', ylabel='count'>"
      ]
     },
     "execution_count": 15,
     "metadata": {},
     "output_type": "execute_result"
    },
    {
     "data": {
      "image/png": "[encoded data removed]",
      "text/plain": [
       "<Figure size 432x288 with 1 Axes>"
      ]
     },
     "metadata": {
      "needs_background": "light"
     },
     "output_type": "display_data"
    }
   ],
   "source": [
    "#Relation between outcome and degree of age of the horse\n",
    "\n",
    "sns.countplot(data=df, x='outcome', hue = 'Age')"
   ]
  },
  {
   "cell_type": "markdown",
   "metadata": {},
   "source": [
    "## Data Processing for analysis"
   ]
  },
  {
   "cell_type": "code",
   "execution_count": 17,
   "metadata": {},
   "outputs": [
    {
     "data": {
      "text/plain": [
       "0.09788936205423254"
      ]
     },
     "execution_count": 17,
     "metadata": {},
     "output_type": "execute_result"
    }
   ],
   "source": [
    "#Converting variables to categorical datatype for better analysis\n",
    "df['outcome'] = df['outcome'].astype('category').cat.codes\n",
    "df['Age'] = df['Age'].astype('category').cat.codes\n",
    "df['pain'] = df['pain'].astype('category').cat.codes"
   ]
  },
  {
   "cell_type": "code",
   "execution_count": 18,
   "metadata": {},
   "outputs": [],
   "source": [
    "#Finding correlation between features and target variables\n",
    "corr= df.corr()"
   ]
  },
  {
   "cell_type": "code",
   "execution_count": 19,
   "metadata": {},
   "outputs": [
    {
     "data": {
      "text/plain": [
       "outcome                       1.000000\n",
       " packed cell volume           0.348252\n",
       "surgical lesion?              0.335366\n",
       "pulse                         0.332151\n",
       "peripheral pulse              0.306622\n",
       "peristalsis                   0.289940\n",
       "temperature of extremities    0.285713\n",
       "abdominal distension          0.273972\n",
       "capillary refill time         0.258909\n",
       "total protein                 0.224141\n",
       "surgery                       0.194000\n",
       "nasogastric reflux            0.181624\n",
       "Hospital ID                   0.101846\n",
       "respiratory rate              0.100203\n",
       "2                             0.099039\n",
       "1                             0.098606\n",
       "Age                           0.097889\n",
       "path                          0.070761\n",
       "3                             0.044610\n",
       "rectal temperature            0.018860\n",
       "pain                          0.018624\n",
       "mucous membranes              0.006884\n",
       "Name: outcome, dtype: float64"
      ]
     },
     "execution_count": 19,
     "metadata": {},
     "output_type": "execute_result"
    }
   ],
   "source": [
    "core = abs(corr.outcome.sort_values(ascending = False))\n",
    "core.sort_values(ascending = False)"
   ]
  },
  {
   "cell_type": "code",
   "execution_count": 163,
   "metadata": {},
   "outputs": [
    {
     "data": {
      "text/plain": [
       "<AxesSubplot:>"
      ]
     },
     "execution_count": 163,
     "metadata": {},
     "output_type": "execute_result"
    },
    {
     "data": {
      "image/png": "[encoded data removed]",
      "text/plain": [
       "<Figure size 432x288 with 2 Axes>"
      ]
     },
     "metadata": {
      "needs_background": "light"
     },
     "output_type": "display_data"
    }
   ],
   "source": [
    "#Heatmap of correlations\n",
    "sns.heatmap(corr, vmax=0.85)"
   ]
  },
  {
   "cell_type": "markdown",
   "metadata": {},
   "source": [
    "## This shows that features like pulse, surgical lesion,packed cell volume are having strong relations with our target variable which implies that these features play the most crucial role in classifying the target variable compared to other features. "
   ]
  },
  {
   "cell_type": "code",
   "execution_count": 21,
   "metadata": {},
   "outputs": [],
   "source": [
    "#Removing columns which have insignificant impact on our target variable \"outcome\" (corr<0.9)\n",
    "df.drop('path',axis = 1 , inplace = True)\n",
    "df.drop('3',axis = 1 , inplace = True)\n",
    "df.drop('rectal temperature',axis = 1 , inplace = True)\n",
    "df.drop('pain',axis = 1 , inplace = True)\n",
    "df.drop('mucous membranes',axis = 1 , inplace = True)"
   ]
  },
  {
   "cell_type": "code",
   "execution_count": 140,
   "metadata": {},
   "outputs": [
    {
     "data": {
      "text/html": [
       "<div>\n",
       "<style scoped>\n",
       "    .dataframe tbody tr th:only-of-type {\n",
       "        vertical-align: middle;\n",
       "    }\n",
       "\n",
       "    .dataframe tbody tr th {\n",
       "        vertical-align: top;\n",
       "    }\n",
       "\n",
       "    .dataframe thead th {\n",
       "        text-align: right;\n",
       "    }\n",
       "</style>\n",
       "<table border=\"1\" class=\"dataframe\">\n",
       "  <thead>\n",
       "    <tr style=\"text-align: right;\">\n",
       "      <th></th>\n",
       "      <th>surgery</th>\n",
       "      <th>Age</th>\n",
       "      <th>Hospital ID</th>\n",
       "      <th>rectal temperature</th>\n",
       "      <th>pulse</th>\n",
       "      <th>respiratory rate</th>\n",
       "      <th>temperature of extremities</th>\n",
       "      <th>peripheral pulse</th>\n",
       "      <th>mucous membranes</th>\n",
       "      <th>capillary refill time</th>\n",
       "      <th>...</th>\n",
       "      <th>abdominal distension</th>\n",
       "      <th>nasogastric reflux</th>\n",
       "      <th>packed cell volume</th>\n",
       "      <th>total protein</th>\n",
       "      <th>outcome</th>\n",
       "      <th>surgical lesion?</th>\n",
       "      <th>1</th>\n",
       "      <th>2</th>\n",
       "      <th>3</th>\n",
       "      <th>path</th>\n",
       "    </tr>\n",
       "  </thead>\n",
       "  <tbody>\n",
       "    <tr>\n",
       "      <th>0</th>\n",
       "      <td>2.0</td>\n",
       "      <td>Adult</td>\n",
       "      <td>530101</td>\n",
       "      <td>38.5</td>\n",
       "      <td>66.0</td>\n",
       "      <td>28.0</td>\n",
       "      <td>3.0</td>\n",
       "      <td>3.0</td>\n",
       "      <td>71.913043</td>\n",
       "      <td>2.0</td>\n",
       "      <td>...</td>\n",
       "      <td>4.0</td>\n",
       "      <td>1.0</td>\n",
       "      <td>45.0</td>\n",
       "      <td>8.4</td>\n",
       "      <td>died</td>\n",
       "      <td>2</td>\n",
       "      <td>11300</td>\n",
       "      <td>0</td>\n",
       "      <td>0</td>\n",
       "      <td>2</td>\n",
       "    </tr>\n",
       "    <tr>\n",
       "      <th>1</th>\n",
       "      <td>1.0</td>\n",
       "      <td>Adult</td>\n",
       "      <td>534817</td>\n",
       "      <td>39.2</td>\n",
       "      <td>88.0</td>\n",
       "      <td>20.0</td>\n",
       "      <td>3.0</td>\n",
       "      <td>1.0</td>\n",
       "      <td>4.000000</td>\n",
       "      <td>1.0</td>\n",
       "      <td>...</td>\n",
       "      <td>2.0</td>\n",
       "      <td>1.0</td>\n",
       "      <td>50.0</td>\n",
       "      <td>85.0</td>\n",
       "      <td>euthenized</td>\n",
       "      <td>2</td>\n",
       "      <td>2208</td>\n",
       "      <td>0</td>\n",
       "      <td>0</td>\n",
       "      <td>2</td>\n",
       "    </tr>\n",
       "    <tr>\n",
       "      <th>2</th>\n",
       "      <td>2.0</td>\n",
       "      <td>Adult</td>\n",
       "      <td>530334</td>\n",
       "      <td>38.3</td>\n",
       "      <td>40.0</td>\n",
       "      <td>24.0</td>\n",
       "      <td>1.0</td>\n",
       "      <td>1.0</td>\n",
       "      <td>3.000000</td>\n",
       "      <td>1.0</td>\n",
       "      <td>...</td>\n",
       "      <td>1.0</td>\n",
       "      <td>1.0</td>\n",
       "      <td>33.0</td>\n",
       "      <td>6.7</td>\n",
       "      <td>lived</td>\n",
       "      <td>2</td>\n",
       "      <td>0</td>\n",
       "      <td>0</td>\n",
       "      <td>0</td>\n",
       "      <td>1</td>\n",
       "    </tr>\n",
       "    <tr>\n",
       "      <th>3</th>\n",
       "      <td>1.0</td>\n",
       "      <td>Young</td>\n",
       "      <td>5290409</td>\n",
       "      <td>39.1</td>\n",
       "      <td>164.0</td>\n",
       "      <td>84.0</td>\n",
       "      <td>4.0</td>\n",
       "      <td>1.0</td>\n",
       "      <td>6.000000</td>\n",
       "      <td>2.0</td>\n",
       "      <td>...</td>\n",
       "      <td>4.0</td>\n",
       "      <td>2.0</td>\n",
       "      <td>48.0</td>\n",
       "      <td>7.2</td>\n",
       "      <td>died</td>\n",
       "      <td>1</td>\n",
       "      <td>2208</td>\n",
       "      <td>0</td>\n",
       "      <td>0</td>\n",
       "      <td>1</td>\n",
       "    </tr>\n",
       "    <tr>\n",
       "      <th>4</th>\n",
       "      <td>2.0</td>\n",
       "      <td>Adult</td>\n",
       "      <td>530255</td>\n",
       "      <td>37.3</td>\n",
       "      <td>104.0</td>\n",
       "      <td>35.0</td>\n",
       "      <td>3.0</td>\n",
       "      <td>1.0</td>\n",
       "      <td>6.000000</td>\n",
       "      <td>2.0</td>\n",
       "      <td>...</td>\n",
       "      <td>1.0</td>\n",
       "      <td>1.0</td>\n",
       "      <td>74.0</td>\n",
       "      <td>7.4</td>\n",
       "      <td>died</td>\n",
       "      <td>2</td>\n",
       "      <td>4300</td>\n",
       "      <td>0</td>\n",
       "      <td>0</td>\n",
       "      <td>2</td>\n",
       "    </tr>\n",
       "  </tbody>\n",
       "</table>\n",
       "<p>5 rows × 22 columns</p>\n",
       "</div>"
      ],
      "text/plain": [
       "   surgery    Age  Hospital ID  rectal temperature  pulse  respiratory rate  \\\n",
       "0      2.0  Adult       530101                38.5   66.0              28.0   \n",
       "1      1.0  Adult       534817                39.2   88.0              20.0   \n",
       "2      2.0  Adult       530334                38.3   40.0              24.0   \n",
       "3      1.0  Young      5290409                39.1  164.0              84.0   \n",
       "4      2.0  Adult       530255                37.3  104.0              35.0   \n",
       "\n",
       "   temperature of extremities  peripheral pulse  mucous membranes  \\\n",
       "0                         3.0               3.0         71.913043   \n",
       "1                         3.0               1.0          4.000000   \n",
       "2                         1.0               1.0          3.000000   \n",
       "3                         4.0               1.0          6.000000   \n",
       "4                         3.0               1.0          6.000000   \n",
       "\n",
       "   capillary refill time  ... abdominal distension  nasogastric reflux  \\\n",
       "0                    2.0  ...                  4.0                 1.0   \n",
       "1                    1.0  ...                  2.0                 1.0   \n",
       "2                    1.0  ...                  1.0                 1.0   \n",
       "3                    2.0  ...                  4.0                 2.0   \n",
       "4                    2.0  ...                  1.0                 1.0   \n",
       "\n",
       "    packed cell volume  total protein     outcome  surgical lesion?      1  2  \\\n",
       "0                 45.0            8.4        died                 2  11300  0   \n",
       "1                 50.0           85.0  euthenized                 2   2208  0   \n",
       "2                 33.0            6.7       lived                 2      0  0   \n",
       "3                 48.0            7.2        died                 1   2208  0   \n",
       "4                 74.0            7.4        died                 2   4300  0   \n",
       "\n",
       "   3  path  \n",
       "0  0     2  \n",
       "1  0     2  \n",
       "2  0     1  \n",
       "3  0     1  \n",
       "4  0     2  \n",
       "\n",
       "[5 rows x 22 columns]"
      ]
     },
     "metadata": {},
     "output_type": "display_data"
    },
    {
     "data": {
      "text/plain": [
       "(300, 22)"
      ]
     },
     "metadata": {},
     "output_type": "display_data"
    }
   ],
   "source": [
    "#Cleaned and processed train dataset\n",
    "display(df.head())\n",
    "display(df.shape)"
   ]
  },
  {
   "cell_type": "markdown",
   "metadata": {},
   "source": [
    "## Importing Test Dataset"
   ]
  },
  {
   "cell_type": "code",
   "execution_count": 111,
   "metadata": {},
   "outputs": [],
   "source": [
    "columns = ['surgery','Age','Hospital ID','rectal temperature','pulse','respiratory rate','temperature of extremities','peripheral pulse',\"mucous membranes\",'capillary refill time','pain','peristalsis','abdominal distension','nasogastric tube','nasogastric reflux','nasogastric reflux PH','rectal examination - feces','abdomen',' packed cell volume','total protein','abdominocentesis appearance','abdomcentesis total protein','outcome','surgical lesion?','1','2','3','path']\n",
    "dfs = pd.read_csv('https://archive.ics.uci.edu/ml/machine-learning-databases/horse-colic/horse-colic.test', sep = ' ', header = None, na_values='?', names = columns)"
   ]
  },
  {
   "cell_type": "code",
   "execution_count": 112,
   "metadata": {},
   "outputs": [
    {
     "data": {
      "text/html": [
       "<div>\n",
       "<style scoped>\n",
       "    .dataframe tbody tr th:only-of-type {\n",
       "        vertical-align: middle;\n",
       "    }\n",
       "\n",
       "    .dataframe tbody tr th {\n",
       "        vertical-align: top;\n",
       "    }\n",
       "\n",
       "    .dataframe thead th {\n",
       "        text-align: right;\n",
       "    }\n",
       "</style>\n",
       "<table border=\"1\" class=\"dataframe\">\n",
       "  <thead>\n",
       "    <tr style=\"text-align: right;\">\n",
       "      <th></th>\n",
       "      <th>surgery</th>\n",
       "      <th>Age</th>\n",
       "      <th>Hospital ID</th>\n",
       "      <th>rectal temperature</th>\n",
       "      <th>pulse</th>\n",
       "      <th>respiratory rate</th>\n",
       "      <th>temperature of extremities</th>\n",
       "      <th>peripheral pulse</th>\n",
       "      <th>mucous membranes</th>\n",
       "      <th>capillary refill time</th>\n",
       "      <th>...</th>\n",
       "      <th>packed cell volume</th>\n",
       "      <th>total protein</th>\n",
       "      <th>abdominocentesis appearance</th>\n",
       "      <th>abdomcentesis total protein</th>\n",
       "      <th>outcome</th>\n",
       "      <th>surgical lesion?</th>\n",
       "      <th>1</th>\n",
       "      <th>2</th>\n",
       "      <th>3</th>\n",
       "      <th>path</th>\n",
       "    </tr>\n",
       "  </thead>\n",
       "  <tbody>\n",
       "    <tr>\n",
       "      <th>0</th>\n",
       "      <td>2.0</td>\n",
       "      <td>1</td>\n",
       "      <td>528626</td>\n",
       "      <td>38.5</td>\n",
       "      <td>54.0</td>\n",
       "      <td>20.0</td>\n",
       "      <td>NaN</td>\n",
       "      <td>1.0</td>\n",
       "      <td>2.0</td>\n",
       "      <td>2.0</td>\n",
       "      <td>...</td>\n",
       "      <td>42.0</td>\n",
       "      <td>6.3</td>\n",
       "      <td>NaN</td>\n",
       "      <td>NaN</td>\n",
       "      <td>1.0</td>\n",
       "      <td>2</td>\n",
       "      <td>3111</td>\n",
       "      <td>0</td>\n",
       "      <td>0</td>\n",
       "      <td>1</td>\n",
       "    </tr>\n",
       "    <tr>\n",
       "      <th>1</th>\n",
       "      <td>2.0</td>\n",
       "      <td>1</td>\n",
       "      <td>527950</td>\n",
       "      <td>37.6</td>\n",
       "      <td>48.0</td>\n",
       "      <td>36.0</td>\n",
       "      <td>NaN</td>\n",
       "      <td>NaN</td>\n",
       "      <td>1.0</td>\n",
       "      <td>1.0</td>\n",
       "      <td>...</td>\n",
       "      <td>44.0</td>\n",
       "      <td>6.3</td>\n",
       "      <td>1.0</td>\n",
       "      <td>5.0</td>\n",
       "      <td>1.0</td>\n",
       "      <td>2</td>\n",
       "      <td>3111</td>\n",
       "      <td>0</td>\n",
       "      <td>0</td>\n",
       "      <td>1</td>\n",
       "    </tr>\n",
       "    <tr>\n",
       "      <th>2</th>\n",
       "      <td>1.0</td>\n",
       "      <td>1</td>\n",
       "      <td>535263</td>\n",
       "      <td>37.7</td>\n",
       "      <td>44.0</td>\n",
       "      <td>28.0</td>\n",
       "      <td>NaN</td>\n",
       "      <td>4.0</td>\n",
       "      <td>3.0</td>\n",
       "      <td>2.0</td>\n",
       "      <td>...</td>\n",
       "      <td>45.0</td>\n",
       "      <td>70.0</td>\n",
       "      <td>3.0</td>\n",
       "      <td>2.0</td>\n",
       "      <td>1.0</td>\n",
       "      <td>1</td>\n",
       "      <td>3205</td>\n",
       "      <td>0</td>\n",
       "      <td>0</td>\n",
       "      <td>2</td>\n",
       "    </tr>\n",
       "    <tr>\n",
       "      <th>3</th>\n",
       "      <td>1.0</td>\n",
       "      <td>1</td>\n",
       "      <td>534523</td>\n",
       "      <td>37.0</td>\n",
       "      <td>56.0</td>\n",
       "      <td>24.0</td>\n",
       "      <td>3.0</td>\n",
       "      <td>1.0</td>\n",
       "      <td>4.0</td>\n",
       "      <td>2.0</td>\n",
       "      <td>...</td>\n",
       "      <td>35.0</td>\n",
       "      <td>61.0</td>\n",
       "      <td>3.0</td>\n",
       "      <td>2.0</td>\n",
       "      <td>3.0</td>\n",
       "      <td>2</td>\n",
       "      <td>2205</td>\n",
       "      <td>2208</td>\n",
       "      <td>0</td>\n",
       "      <td>2</td>\n",
       "    </tr>\n",
       "    <tr>\n",
       "      <th>4</th>\n",
       "      <td>2.0</td>\n",
       "      <td>1</td>\n",
       "      <td>528926</td>\n",
       "      <td>38.0</td>\n",
       "      <td>42.0</td>\n",
       "      <td>12.0</td>\n",
       "      <td>3.0</td>\n",
       "      <td>NaN</td>\n",
       "      <td>3.0</td>\n",
       "      <td>1.0</td>\n",
       "      <td>...</td>\n",
       "      <td>37.0</td>\n",
       "      <td>5.8</td>\n",
       "      <td>NaN</td>\n",
       "      <td>NaN</td>\n",
       "      <td>1.0</td>\n",
       "      <td>2</td>\n",
       "      <td>3111</td>\n",
       "      <td>0</td>\n",
       "      <td>0</td>\n",
       "      <td>2</td>\n",
       "    </tr>\n",
       "  </tbody>\n",
       "</table>\n",
       "<p>5 rows × 28 columns</p>\n",
       "</div>"
      ],
      "text/plain": [
       "   surgery  Age  Hospital ID  rectal temperature  pulse  respiratory rate  \\\n",
       "0      2.0    1       528626                38.5   54.0              20.0   \n",
       "1      2.0    1       527950                37.6   48.0              36.0   \n",
       "2      1.0    1       535263                37.7   44.0              28.0   \n",
       "3      1.0    1       534523                37.0   56.0              24.0   \n",
       "4      2.0    1       528926                38.0   42.0              12.0   \n",
       "\n",
       "   temperature of extremities  peripheral pulse  mucous membranes  \\\n",
       "0                         NaN               1.0               2.0   \n",
       "1                         NaN               NaN               1.0   \n",
       "2                         NaN               4.0               3.0   \n",
       "3                         3.0               1.0               4.0   \n",
       "4                         3.0               NaN               3.0   \n",
       "\n",
       "   capillary refill time  ...   packed cell volume  total protein  \\\n",
       "0                    2.0  ...                 42.0            6.3   \n",
       "1                    1.0  ...                 44.0            6.3   \n",
       "2                    2.0  ...                 45.0           70.0   \n",
       "3                    2.0  ...                 35.0           61.0   \n",
       "4                    1.0  ...                 37.0            5.8   \n",
       "\n",
       "   abdominocentesis appearance  abdomcentesis total protein  outcome  \\\n",
       "0                          NaN                          NaN      1.0   \n",
       "1                          1.0                          5.0      1.0   \n",
       "2                          3.0                          2.0      1.0   \n",
       "3                          3.0                          2.0      3.0   \n",
       "4                          NaN                          NaN      1.0   \n",
       "\n",
       "   surgical lesion?     1     2  3  path  \n",
       "0                 2  3111     0  0     1  \n",
       "1                 2  3111     0  0     1  \n",
       "2                 1  3205     0  0     2  \n",
       "3                 2  2205  2208  0     2  \n",
       "4                 2  3111     0  0     2  \n",
       "\n",
       "[5 rows x 28 columns]"
      ]
     },
     "metadata": {},
     "output_type": "display_data"
    },
    {
     "data": {
      "text/plain": [
       "28"
      ]
     },
     "metadata": {},
     "output_type": "display_data"
    },
    {
     "name": "stdout",
     "output_type": "stream",
     "text": [
      "<class 'pandas.core.frame.DataFrame'>\n",
      "RangeIndex: 68 entries, 0 to 67\n",
      "Data columns (total 28 columns):\n",
      " #   Column                       Non-Null Count  Dtype  \n",
      "---  ------                       --------------  -----  \n",
      " 0   surgery                      67 non-null     float64\n",
      " 1   Age                          68 non-null     int64  \n",
      " 2   Hospital ID                  68 non-null     int64  \n",
      " 3   rectal temperature           59 non-null     float64\n",
      " 4   pulse                        66 non-null     float64\n",
      " 5   respiratory rate             55 non-null     float64\n",
      " 6   temperature of extremities   59 non-null     float64\n",
      " 7   peripheral pulse             54 non-null     float64\n",
      " 8   mucous membranes             67 non-null     float64\n",
      " 9   capillary refill time        62 non-null     float64\n",
      " 10  pain                         60 non-null     float64\n",
      " 11  peristalsis                  60 non-null     float64\n",
      " 12  abdominal distension         59 non-null     float64\n",
      " 13  nasogastric tube             41 non-null     float64\n",
      " 14  nasogastric reflux           41 non-null     float64\n",
      " 15  nasogastric reflux PH        16 non-null     float64\n",
      " 16  rectal examination - feces   42 non-null     float64\n",
      " 17  abdomen                      43 non-null     float64\n",
      " 18   packed cell volume          60 non-null     float64\n",
      " 19  total protein                58 non-null     float64\n",
      " 20  abdominocentesis appearance  39 non-null     float64\n",
      " 21  abdomcentesis total protein  31 non-null     float64\n",
      " 22  outcome                      67 non-null     float64\n",
      " 23  surgical lesion?             68 non-null     int64  \n",
      " 24  1                            68 non-null     int64  \n",
      " 25  2                            68 non-null     int64  \n",
      " 26  3                            68 non-null     int64  \n",
      " 27  path                         68 non-null     int64  \n",
      "dtypes: float64(21), int64(7)\n",
      "memory usage: 15.0 KB\n"
     ]
    },
    {
     "data": {
      "text/plain": [
       "None"
      ]
     },
     "metadata": {},
     "output_type": "display_data"
    },
    {
     "data": {
      "text/plain": [
       "(68, 28)"
      ]
     },
     "metadata": {},
     "output_type": "display_data"
    }
   ],
   "source": [
    "display(dfs.head())\n",
    "display(len(dfs.columns))\n",
    "display(dfs.info())\n",
    "display(dfs.shape)"
   ]
  },
  {
   "cell_type": "markdown",
   "metadata": {},
   "source": [
    "## Cleaning Test dataset"
   ]
  },
  {
   "cell_type": "code",
   "execution_count": 182,
   "metadata": {
    "scrolled": true
   },
   "outputs": [
    {
     "data": {
      "text/plain": [
       "<AxesSubplot:>"
      ]
     },
     "execution_count": 182,
     "metadata": {},
     "output_type": "execute_result"
    },
    {
     "data": {
      "image/png": "[encoded data removed]",
      "text/plain": [
       "<Figure size 432x288 with 1 Axes>"
      ]
     },
     "metadata": {
      "needs_background": "light"
     },
     "output_type": "display_data"
    }
   ],
   "source": [
    "#Visualising missing data\n",
    "sns.heatmap(dfs.isnull(),cbar=False, cmap='Pastel1')"
   ]
  },
  {
   "cell_type": "markdown",
   "metadata": {},
   "source": [
    "## White blank spaces account for the missing data in the entire dataframe represented by Pink"
   ]
  },
  {
   "cell_type": "code",
   "execution_count": 115,
   "metadata": {},
   "outputs": [
    {
     "name": "stdout",
     "output_type": "stream",
     "text": [
      "surgery                         1\n",
      "Age                             0\n",
      "Hospital ID                     0\n",
      "rectal temperature              9\n",
      "pulse                           2\n",
      "respiratory rate               13\n",
      "temperature of extremities      9\n",
      "peripheral pulse               14\n",
      "mucous membranes                1\n",
      "capillary refill time           6\n",
      "pain                            8\n",
      "peristalsis                     8\n",
      "abdominal distension            9\n",
      "nasogastric tube               27\n",
      "nasogastric reflux             27\n",
      "nasogastric reflux PH          52\n",
      "rectal examination - feces     26\n",
      "abdomen                        25\n",
      " packed cell volume             8\n",
      "total protein                  10\n",
      "abdominocentesis appearance    29\n",
      "abdomcentesis total protein    37\n",
      "outcome                         1\n",
      "surgical lesion?                0\n",
      "1                               0\n",
      "2                               0\n",
      "3                               0\n",
      "path                            0\n",
      "dtype: int64\n"
     ]
    },
    {
     "data": {
      "image/png": "[encoded data removed]",
      "text/plain": [
       "<Figure size 1440x720 with 1 Axes>"
      ]
     },
     "metadata": {
      "needs_background": "light"
     },
     "output_type": "display_data"
    }
   ],
   "source": [
    "null = dfs.isnull().sum()\n",
    "\n",
    "from matplotlib import pyplot as plt\n",
    "\n",
    "plt.figure(figsize=(20,10))\n",
    "plt.bar(range(len(null)),null)\n",
    "plt.xlabel('Features')\n",
    "plt.ylabel('missing')\n",
    "plt.xticks(list(range(len(dfs.columns))), list(dfs.columns.values), rotation='vertical')\n",
    "plt.show\n",
    "\n",
    "print(null)"
   ]
  },
  {
   "cell_type": "code",
   "execution_count": 26,
   "metadata": {},
   "outputs": [],
   "source": [
    "#Dropping columns with significant number of missing values\n",
    "dfs.drop('nasogastric reflux PH', axis=1, inplace = True)\n",
    "dfs.drop('abdomcentesis total protein', axis=1, inplace = True)\n",
    "dfs.drop('abdominocentesis appearance', axis=1, inplace = True)\n",
    "dfs.drop('nasogastric tube', axis=1, inplace = True)\n",
    "dfs.drop('abdomen', axis=1, inplace = True)\n",
    "dfs.drop('rectal examination - feces', axis=1, inplace = True)"
   ]
  },
  {
   "cell_type": "markdown",
   "metadata": {},
   "source": [
    "Removing columns which have insignificant impact on our target variable \"outcome\" (corr<.9) as seen from Train dataset\n"
   ]
  },
  {
   "cell_type": "code",
   "execution_count": null,
   "metadata": {},
   "outputs": [],
   "source": [
    "dfs.drop('path',axis = 1 , inplace = True)\n",
    "dfs.drop('3',axis = 1 , inplace = True)\n",
    "dfs.drop('rectal temperature',axis = 1 , inplace = True)\n",
    "dfs.drop('pain',axis = 1 , inplace = True)\n",
    "dfs.drop('mucous membranes',axis = 1 , inplace = True)"
   ]
  },
  {
   "cell_type": "markdown",
   "metadata": {},
   "source": [
    "# Processing Test dataset before analysis"
   ]
  },
  {
   "cell_type": "code",
   "execution_count": 27,
   "metadata": {},
   "outputs": [],
   "source": [
    "dfs['Age'].replace({9:2}, inplace = True)\n",
    "dfs['outcome'].replace({1:'lived', 2:'died', 3:'euthenized'}, inplace = True)\n",
    "dfs['Age'].replace({1:'Adult', 2:'Young'}, inplace = True)\n"
   ]
  },
  {
   "cell_type": "code",
   "execution_count": 28,
   "metadata": {},
   "outputs": [
    {
     "data": {
      "text/html": [
       "<div>\n",
       "<style scoped>\n",
       "    .dataframe tbody tr th:only-of-type {\n",
       "        vertical-align: middle;\n",
       "    }\n",
       "\n",
       "    .dataframe tbody tr th {\n",
       "        vertical-align: top;\n",
       "    }\n",
       "\n",
       "    .dataframe thead th {\n",
       "        text-align: right;\n",
       "    }\n",
       "</style>\n",
       "<table border=\"1\" class=\"dataframe\">\n",
       "  <thead>\n",
       "    <tr style=\"text-align: right;\">\n",
       "      <th></th>\n",
       "      <th>NA</th>\n",
       "    </tr>\n",
       "  </thead>\n",
       "  <tbody>\n",
       "    <tr>\n",
       "      <th>surgery</th>\n",
       "      <td>1</td>\n",
       "    </tr>\n",
       "    <tr>\n",
       "      <th>pulse</th>\n",
       "      <td>2</td>\n",
       "    </tr>\n",
       "    <tr>\n",
       "      <th>respiratory rate</th>\n",
       "      <td>13</td>\n",
       "    </tr>\n",
       "    <tr>\n",
       "      <th>temperature of extremities</th>\n",
       "      <td>9</td>\n",
       "    </tr>\n",
       "    <tr>\n",
       "      <th>peripheral pulse</th>\n",
       "      <td>14</td>\n",
       "    </tr>\n",
       "    <tr>\n",
       "      <th>capillary refill time</th>\n",
       "      <td>6</td>\n",
       "    </tr>\n",
       "    <tr>\n",
       "      <th>peristalsis</th>\n",
       "      <td>8</td>\n",
       "    </tr>\n",
       "    <tr>\n",
       "      <th>abdominal distension</th>\n",
       "      <td>9</td>\n",
       "    </tr>\n",
       "    <tr>\n",
       "      <th>nasogastric reflux</th>\n",
       "      <td>27</td>\n",
       "    </tr>\n",
       "    <tr>\n",
       "      <th>packed cell volume</th>\n",
       "      <td>8</td>\n",
       "    </tr>\n",
       "    <tr>\n",
       "      <th>total protein</th>\n",
       "      <td>10</td>\n",
       "    </tr>\n",
       "    <tr>\n",
       "      <th>outcome</th>\n",
       "      <td>1</td>\n",
       "    </tr>\n",
       "  </tbody>\n",
       "</table>\n",
       "</div>"
      ],
      "text/plain": [
       "                            NA\n",
       "surgery                      1\n",
       "pulse                        2\n",
       "respiratory rate            13\n",
       "temperature of extremities   9\n",
       "peripheral pulse            14\n",
       "capillary refill time        6\n",
       "peristalsis                  8\n",
       "abdominal distension         9\n",
       "nasogastric reflux          27\n",
       " packed cell volume          8\n",
       "total protein               10\n",
       "outcome                      1"
      ]
     },
     "execution_count": 28,
     "metadata": {},
     "output_type": "execute_result"
    }
   ],
   "source": [
    "null = pd.concat([dfs.isnull().sum()], axis = 1, keys = ['NA'] )\n",
    "null.loc[(null.NA>0)]"
   ]
  },
  {
   "cell_type": "code",
   "execution_count": 29,
   "metadata": {},
   "outputs": [
    {
     "name": "stdout",
     "output_type": "stream",
     "text": [
      "pulse\n",
      "respiratory rate\n",
      " packed cell volume\n",
      "total protein\n"
     ]
    }
   ],
   "source": [
    "for col in dfs.columns.values:\n",
    "    if (len(dfs[col].value_counts())> 5) and (dfs[col].isnull().sum() > 0):\n",
    "        print(col)"
   ]
  },
  {
   "cell_type": "code",
   "execution_count": 30,
   "metadata": {},
   "outputs": [],
   "source": [
    "dfs['surgery'].fillna(dfs['surgery'].mode()[0], inplace = True)\n",
    "dfs['pulse'].fillna(dfs['pulse'].mean(), inplace = True)\n",
    "dfs['respiratory rate'].fillna(dfs['pulse'].mean(), inplace = True)\n",
    "dfs[' packed cell volume'].fillna(dfs['pulse'].mean(), inplace = True)\n",
    "dfs['total protein'].fillna(dfs['total protein'].mean(), inplace = True)\n",
    "\n",
    "for col in dfs.columns.values:\n",
    "    if (dfs[col].isnull().sum()>0):  \n",
    "        if (dfs[col].dtype == 'float64'):\n",
    "            dfs[col].fillna(df[col].mode()[0], inplace = True)"
   ]
  },
  {
   "cell_type": "code",
   "execution_count": 31,
   "metadata": {},
   "outputs": [
    {
     "data": {
      "text/html": [
       "<div>\n",
       "<style scoped>\n",
       "    .dataframe tbody tr th:only-of-type {\n",
       "        vertical-align: middle;\n",
       "    }\n",
       "\n",
       "    .dataframe tbody tr th {\n",
       "        vertical-align: top;\n",
       "    }\n",
       "\n",
       "    .dataframe thead th {\n",
       "        text-align: right;\n",
       "    }\n",
       "</style>\n",
       "<table border=\"1\" class=\"dataframe\">\n",
       "  <thead>\n",
       "    <tr style=\"text-align: right;\">\n",
       "      <th></th>\n",
       "      <th>NA</th>\n",
       "    </tr>\n",
       "  </thead>\n",
       "  <tbody>\n",
       "    <tr>\n",
       "      <th>outcome</th>\n",
       "      <td>1</td>\n",
       "    </tr>\n",
       "  </tbody>\n",
       "</table>\n",
       "</div>"
      ],
      "text/plain": [
       "         NA\n",
       "outcome   1"
      ]
     },
     "execution_count": 31,
     "metadata": {},
     "output_type": "execute_result"
    }
   ],
   "source": [
    "null = pd.concat([dfs.isnull().sum()], axis = 1, keys = ['NA'])\n",
    "(null.loc[(null['NA']>0)])"
   ]
  },
  {
   "cell_type": "code",
   "execution_count": 32,
   "metadata": {},
   "outputs": [],
   "source": [
    "dfs.dropna(axis=0, inplace =True)"
   ]
  },
  {
   "cell_type": "code",
   "execution_count": 33,
   "metadata": {},
   "outputs": [],
   "source": [
    "dfs['outcome'] = dfs['outcome'].astype('category').cat.codes\n",
    "dfs['Age'] = dfs['Age'].astype('category').cat.codes"
   ]
  },
  {
   "cell_type": "code",
   "execution_count": 34,
   "metadata": {},
   "outputs": [],
   "source": [
    "#Separating features and target variable from both test and train dataset\n",
    "xtrain = df.drop(\"outcome\", axis=1)\n",
    "ytrain = df[\"outcome\"]\n",
    "xtest  = dfs.drop(\"outcome\", axis=1)\n",
    "ytest  = dfs[\"outcome\"]"
   ]
  },
  {
   "cell_type": "code",
   "execution_count": 35,
   "metadata": {},
   "outputs": [
    {
     "data": {
      "text/html": [
       "<div>\n",
       "<style scoped>\n",
       "    .dataframe tbody tr th:only-of-type {\n",
       "        vertical-align: middle;\n",
       "    }\n",
       "\n",
       "    .dataframe tbody tr th {\n",
       "        vertical-align: top;\n",
       "    }\n",
       "\n",
       "    .dataframe thead th {\n",
       "        text-align: right;\n",
       "    }\n",
       "</style>\n",
       "<table border=\"1\" class=\"dataframe\">\n",
       "  <thead>\n",
       "    <tr style=\"text-align: right;\">\n",
       "      <th></th>\n",
       "      <th>surgery</th>\n",
       "      <th>Age</th>\n",
       "      <th>Hospital ID</th>\n",
       "      <th>pulse</th>\n",
       "      <th>respiratory rate</th>\n",
       "      <th>temperature of extremities</th>\n",
       "      <th>peripheral pulse</th>\n",
       "      <th>capillary refill time</th>\n",
       "      <th>peristalsis</th>\n",
       "      <th>abdominal distension</th>\n",
       "      <th>nasogastric reflux</th>\n",
       "      <th>packed cell volume</th>\n",
       "      <th>total protein</th>\n",
       "      <th>surgical lesion?</th>\n",
       "      <th>1</th>\n",
       "      <th>2</th>\n",
       "    </tr>\n",
       "  </thead>\n",
       "  <tbody>\n",
       "    <tr>\n",
       "      <th>0</th>\n",
       "      <td>2.0</td>\n",
       "      <td>0</td>\n",
       "      <td>530101</td>\n",
       "      <td>66.0</td>\n",
       "      <td>28.0</td>\n",
       "      <td>3.0</td>\n",
       "      <td>3.0</td>\n",
       "      <td>2.0</td>\n",
       "      <td>4.0</td>\n",
       "      <td>4.0</td>\n",
       "      <td>1.0</td>\n",
       "      <td>45.0</td>\n",
       "      <td>8.4</td>\n",
       "      <td>2</td>\n",
       "      <td>11300</td>\n",
       "      <td>0</td>\n",
       "    </tr>\n",
       "    <tr>\n",
       "      <th>1</th>\n",
       "      <td>1.0</td>\n",
       "      <td>0</td>\n",
       "      <td>534817</td>\n",
       "      <td>88.0</td>\n",
       "      <td>20.0</td>\n",
       "      <td>3.0</td>\n",
       "      <td>1.0</td>\n",
       "      <td>1.0</td>\n",
       "      <td>4.0</td>\n",
       "      <td>2.0</td>\n",
       "      <td>1.0</td>\n",
       "      <td>50.0</td>\n",
       "      <td>85.0</td>\n",
       "      <td>2</td>\n",
       "      <td>2208</td>\n",
       "      <td>0</td>\n",
       "    </tr>\n",
       "    <tr>\n",
       "      <th>2</th>\n",
       "      <td>2.0</td>\n",
       "      <td>0</td>\n",
       "      <td>530334</td>\n",
       "      <td>40.0</td>\n",
       "      <td>24.0</td>\n",
       "      <td>1.0</td>\n",
       "      <td>1.0</td>\n",
       "      <td>1.0</td>\n",
       "      <td>3.0</td>\n",
       "      <td>1.0</td>\n",
       "      <td>1.0</td>\n",
       "      <td>33.0</td>\n",
       "      <td>6.7</td>\n",
       "      <td>2</td>\n",
       "      <td>0</td>\n",
       "      <td>0</td>\n",
       "    </tr>\n",
       "    <tr>\n",
       "      <th>3</th>\n",
       "      <td>1.0</td>\n",
       "      <td>1</td>\n",
       "      <td>5290409</td>\n",
       "      <td>164.0</td>\n",
       "      <td>84.0</td>\n",
       "      <td>4.0</td>\n",
       "      <td>1.0</td>\n",
       "      <td>2.0</td>\n",
       "      <td>4.0</td>\n",
       "      <td>4.0</td>\n",
       "      <td>2.0</td>\n",
       "      <td>48.0</td>\n",
       "      <td>7.2</td>\n",
       "      <td>1</td>\n",
       "      <td>2208</td>\n",
       "      <td>0</td>\n",
       "    </tr>\n",
       "    <tr>\n",
       "      <th>4</th>\n",
       "      <td>2.0</td>\n",
       "      <td>0</td>\n",
       "      <td>530255</td>\n",
       "      <td>104.0</td>\n",
       "      <td>35.0</td>\n",
       "      <td>3.0</td>\n",
       "      <td>1.0</td>\n",
       "      <td>2.0</td>\n",
       "      <td>3.0</td>\n",
       "      <td>1.0</td>\n",
       "      <td>1.0</td>\n",
       "      <td>74.0</td>\n",
       "      <td>7.4</td>\n",
       "      <td>2</td>\n",
       "      <td>4300</td>\n",
       "      <td>0</td>\n",
       "    </tr>\n",
       "  </tbody>\n",
       "</table>\n",
       "</div>"
      ],
      "text/plain": [
       "   surgery  Age  Hospital ID  pulse  respiratory rate  \\\n",
       "0      2.0    0       530101   66.0              28.0   \n",
       "1      1.0    0       534817   88.0              20.0   \n",
       "2      2.0    0       530334   40.0              24.0   \n",
       "3      1.0    1      5290409  164.0              84.0   \n",
       "4      2.0    0       530255  104.0              35.0   \n",
       "\n",
       "   temperature of extremities  peripheral pulse  capillary refill time  \\\n",
       "0                         3.0               3.0                    2.0   \n",
       "1                         3.0               1.0                    1.0   \n",
       "2                         1.0               1.0                    1.0   \n",
       "3                         4.0               1.0                    2.0   \n",
       "4                         3.0               1.0                    2.0   \n",
       "\n",
       "   peristalsis  abdominal distension  nasogastric reflux   packed cell volume  \\\n",
       "0          4.0                   4.0                 1.0                 45.0   \n",
       "1          4.0                   2.0                 1.0                 50.0   \n",
       "2          3.0                   1.0                 1.0                 33.0   \n",
       "3          4.0                   4.0                 2.0                 48.0   \n",
       "4          3.0                   1.0                 1.0                 74.0   \n",
       "\n",
       "   total protein  surgical lesion?      1  2  \n",
       "0            8.4                 2  11300  0  \n",
       "1           85.0                 2   2208  0  \n",
       "2            6.7                 2      0  0  \n",
       "3            7.2                 1   2208  0  \n",
       "4            7.4                 2   4300  0  "
      ]
     },
     "execution_count": 35,
     "metadata": {},
     "output_type": "execute_result"
    }
   ],
   "source": [
    "xtrain.head()"
   ]
  },
  {
   "cell_type": "markdown",
   "metadata": {},
   "source": [
    "# Data Analysis"
   ]
  },
  {
   "cell_type": "code",
   "execution_count": 36,
   "metadata": {
    "scrolled": true
   },
   "outputs": [
    {
     "name": "stdout",
     "output_type": "stream",
     "text": [
      "{'bootstrap': True,\n",
      " 'ccp_alpha': 0.0,\n",
      " 'class_weight': None,\n",
      " 'criterion': 'gini',\n",
      " 'max_depth': None,\n",
      " 'max_features': 'auto',\n",
      " 'max_leaf_nodes': None,\n",
      " 'max_samples': None,\n",
      " 'min_impurity_decrease': 0.0,\n",
      " 'min_impurity_split': None,\n",
      " 'min_samples_leaf': 1,\n",
      " 'min_samples_split': 2,\n",
      " 'min_weight_fraction_leaf': 0.0,\n",
      " 'n_estimators': 100,\n",
      " 'n_jobs': -1,\n",
      " 'oob_score': False,\n",
      " 'random_state': 14,\n",
      " 'verbose': 0,\n",
      " 'warm_start': False}\n"
     ]
    }
   ],
   "source": [
    "#RandomForestClassifier Model\n",
    "from sklearn.ensemble import RandomForestClassifier\n",
    "rf = RandomForestClassifier(random_state=14 , n_jobs= -1)\n",
    "from pprint import pprint\n",
    "pprint(rf.get_params())"
   ]
  },
  {
   "cell_type": "code",
   "execution_count": 37,
   "metadata": {},
   "outputs": [],
   "source": [
    "#RandomizedSearchCV for best hyperparameter range\n",
    "from sklearn.model_selection import RandomizedSearchCV\n",
    "n_est=[100,140,180,220]\n",
    "bootstrap = [True,False]\n",
    "msl = [2,3,4]\n",
    "mss=[1,2,3]\n",
    "mf=[.5,1,'auto']\n",
    "criterion = ['gini', 'entropy']\n",
    "maxd=[10,15,20,30,40,None]\n"
   ]
  },
  {
   "cell_type": "code",
   "execution_count": 38,
   "metadata": {},
   "outputs": [],
   "source": [
    "random_grid = {'n_estimators': n_est,\n",
    "               'max_features': mf,\n",
    "               'max_depth': maxd,\n",
    "               'min_samples_split': mss,\n",
    "               'min_samples_leaf': msl,\n",
    "               'bootstrap': bootstrap,\n",
    "               'criterion' : criterion}"
   ]
  },
  {
   "cell_type": "code",
   "execution_count": 39,
   "metadata": {},
   "outputs": [
    {
     "name": "stdout",
     "output_type": "stream",
     "text": [
      "{'bootstrap': [True, False],\n",
      " 'criterion': ['gini', 'entropy'],\n",
      " 'max_depth': [10, 15, 20, 30, 40, None],\n",
      " 'max_features': [0.5, 1, 'auto'],\n",
      " 'min_samples_leaf': [2, 3, 4],\n",
      " 'min_samples_split': [1, 2, 3],\n",
      " 'n_estimators': [100, 140, 180, 220]}\n"
     ]
    }
   ],
   "source": [
    "pprint(random_grid)"
   ]
  },
  {
   "cell_type": "code",
   "execution_count": 40,
   "metadata": {},
   "outputs": [],
   "source": [
    "rf_random = RandomizedSearchCV(estimator = rf, param_distributions = random_grid, n_iter = 100, cv = 3, verbose=2, random_state=14, n_jobs = -1)"
   ]
  },
  {
   "cell_type": "code",
   "execution_count": 41,
   "metadata": {},
   "outputs": [
    {
     "name": "stdout",
     "output_type": "stream",
     "text": [
      "Fitting 3 folds for each of 100 candidates, totalling 300 fits\n"
     ]
    },
    {
     "name": "stderr",
     "output_type": "stream",
     "text": [
      "C:\\Users\\Chandraraj Singh\\AppData\\Local\\Programs\\Python\\Python37\\lib\\site-packages\\sklearn\\model_selection\\_split.py:672: UserWarning: The least populated class in y has only 1 members, which is less than n_splits=3.\n",
      "  % (min_groups, self.n_splits)), UserWarning)\n",
      "[Parallel(n_jobs=-1)]: Using backend LokyBackend with 8 concurrent workers.\n",
      "[Parallel(n_jobs=-1)]: Done  25 tasks      | elapsed:    2.8s\n",
      "[Parallel(n_jobs=-1)]: Done 146 tasks      | elapsed:    9.4s\n",
      "[Parallel(n_jobs=-1)]: Done 300 out of 300 | elapsed:   20.3s finished\n"
     ]
    },
    {
     "data": {
      "text/plain": [
       "RandomizedSearchCV(cv=3,\n",
       "                   estimator=RandomForestClassifier(n_jobs=-1, random_state=14),\n",
       "                   n_iter=100, n_jobs=-1,\n",
       "                   param_distributions={'bootstrap': [True, False],\n",
       "                                        'criterion': ['gini', 'entropy'],\n",
       "                                        'max_depth': [10, 15, 20, 30, 40, None],\n",
       "                                        'max_features': [0.5, 1, 'auto'],\n",
       "                                        'min_samples_leaf': [2, 3, 4],\n",
       "                                        'min_samples_split': [1, 2, 3],\n",
       "                                        'n_estimators': [100, 140, 180, 220]},\n",
       "                   random_state=14, verbose=2)"
      ]
     },
     "execution_count": 41,
     "metadata": {},
     "output_type": "execute_result"
    }
   ],
   "source": [
    "rf_random.fit(xtrain, ytrain)"
   ]
  },
  {
   "cell_type": "code",
   "execution_count": 42,
   "metadata": {},
   "outputs": [
    {
     "data": {
      "text/plain": [
       "{'n_estimators': 180,\n",
       " 'min_samples_split': 2,\n",
       " 'min_samples_leaf': 2,\n",
       " 'max_features': 0.5,\n",
       " 'max_depth': 15,\n",
       " 'criterion': 'entropy',\n",
       " 'bootstrap': True}"
      ]
     },
     "execution_count": 42,
     "metadata": {},
     "output_type": "execute_result"
    }
   ],
   "source": [
    "rf_random.best_params_"
   ]
  },
  {
   "cell_type": "code",
   "execution_count": 43,
   "metadata": {},
   "outputs": [],
   "source": [
    "#GridSearchCV for finding better hyperparameters \n",
    "from sklearn.model_selection import GridSearchCV\n",
    "grid_param= {'n_estimators':[150, 180, 200,300,500],\n",
    "             'min_samples_split':[2,4,6],\n",
    "             'min_samples_leaf': [1,2,3,4],\n",
    "             'max_features': [0.5, 'auto'],\n",
    "             'max_depth': [10,15,20],\n",
    "             'criterion': ['entropy'],\n",
    "             'bootstrap': [True]}"
   ]
  },
  {
   "cell_type": "code",
   "execution_count": 44,
   "metadata": {},
   "outputs": [],
   "source": [
    "rf = RandomForestClassifier()"
   ]
  },
  {
   "cell_type": "code",
   "execution_count": 45,
   "metadata": {},
   "outputs": [],
   "source": [
    "grid_search =  GridSearchCV(estimator = rf, param_grid = grid_param, \n",
    "                          cv = 3, n_jobs = -1, verbose = 2)"
   ]
  },
  {
   "cell_type": "code",
   "execution_count": 46,
   "metadata": {},
   "outputs": [
    {
     "name": "stdout",
     "output_type": "stream",
     "text": [
      "Fitting 3 folds for each of 360 candidates, totalling 1080 fits\n"
     ]
    },
    {
     "name": "stderr",
     "output_type": "stream",
     "text": [
      "C:\\Users\\Chandraraj Singh\\AppData\\Local\\Programs\\Python\\Python37\\lib\\site-packages\\sklearn\\model_selection\\_split.py:672: UserWarning: The least populated class in y has only 1 members, which is less than n_splits=3.\n",
      "  % (min_groups, self.n_splits)), UserWarning)\n",
      "[Parallel(n_jobs=-1)]: Using backend LokyBackend with 8 concurrent workers.\n",
      "[Parallel(n_jobs=-1)]: Done  25 tasks      | elapsed:    3.7s\n",
      "[Parallel(n_jobs=-1)]: Done 146 tasks      | elapsed:   20.8s\n",
      "[Parallel(n_jobs=-1)]: Done 349 tasks      | elapsed:   52.0s\n",
      "[Parallel(n_jobs=-1)]: Done 632 tasks      | elapsed:  1.7min\n",
      "[Parallel(n_jobs=-1)]: Done 997 tasks      | elapsed:  2.5min\n",
      "[Parallel(n_jobs=-1)]: Done 1080 out of 1080 | elapsed:  2.8min finished\n"
     ]
    },
    {
     "data": {
      "text/plain": [
       "GridSearchCV(cv=3, estimator=RandomForestClassifier(), n_jobs=-1,\n",
       "             param_grid={'bootstrap': [True], 'criterion': ['entropy'],\n",
       "                         'max_depth': [10, 15, 20],\n",
       "                         'max_features': [0.5, 'auto'],\n",
       "                         'min_samples_leaf': [1, 2, 3, 4],\n",
       "                         'min_samples_split': [2, 4, 6],\n",
       "                         'n_estimators': [150, 180, 200, 300, 500]},\n",
       "             verbose=2)"
      ]
     },
     "execution_count": 46,
     "metadata": {},
     "output_type": "execute_result"
    }
   ],
   "source": [
    "grid_search.fit(xtrain, ytrain)"
   ]
  },
  {
   "cell_type": "code",
   "execution_count": 47,
   "metadata": {},
   "outputs": [
    {
     "data": {
      "text/plain": [
       "{'bootstrap': True,\n",
       " 'criterion': 'entropy',\n",
       " 'max_depth': 10,\n",
       " 'max_features': 'auto',\n",
       " 'min_samples_leaf': 1,\n",
       " 'min_samples_split': 4,\n",
       " 'n_estimators': 300}"
      ]
     },
     "execution_count": 47,
     "metadata": {},
     "output_type": "execute_result"
    }
   ],
   "source": [
    "grid_search.best_params_"
   ]
  },
  {
   "cell_type": "code",
   "execution_count": 126,
   "metadata": {},
   "outputs": [],
   "source": [
    "#Random Forest Classifier Model\n",
    "rf = RandomForestClassifier(n_estimators=300, criterion='entropy', min_samples_leaf=2,\n",
    "                            min_samples_split=2, max_features='auto',\n",
    "                            max_depth=10, bootstrap=True, n_jobs=-1)"
   ]
  },
  {
   "cell_type": "code",
   "execution_count": 127,
   "metadata": {},
   "outputs": [
    {
     "data": {
      "text/plain": [
       "RandomForestClassifier(criterion='entropy', max_depth=10, min_samples_leaf=2,\n",
       "                       n_estimators=300, n_jobs=-1)"
      ]
     },
     "execution_count": 127,
     "metadata": {},
     "output_type": "execute_result"
    }
   ],
   "source": [
    "rf.fit(xtrain, ytrain)"
   ]
  },
  {
   "cell_type": "code",
   "execution_count": 128,
   "metadata": {
    "scrolled": true
   },
   "outputs": [
    {
     "data": {
      "text/plain": [
       "0.9833333333333333"
      ]
     },
     "execution_count": 128,
     "metadata": {},
     "output_type": "execute_result"
    }
   ],
   "source": [
    "rf.score(xtrain, ytrain)"
   ]
  },
  {
   "cell_type": "code",
   "execution_count": 89,
   "metadata": {},
   "outputs": [],
   "source": [
    "pred = rf.predict(xtest)"
   ]
  },
  {
   "cell_type": "code",
   "execution_count": 130,
   "metadata": {},
   "outputs": [],
   "source": [
    "#Decision tree Classifier Model\n",
    "from sklearn.tree import DecisionTreeClassifier\n",
    "\n",
    "dt = DecisionTreeClassifier(max_depth = 3)\n",
    "dt.fit(xtrain, ytrain)\n",
    "\n",
    "prediction = decision_tree.predict(xtest)"
   ]
  },
  {
   "cell_type": "code",
   "execution_count": 139,
   "metadata": {},
   "outputs": [
    {
     "name": "stdout",
     "output_type": "stream",
     "text": [
      "Accuracy of Random Forest Classifier is  98.33 %\n",
      "Accuracy of Decision Tree Classifier is  72.0 %\n"
     ]
    }
   ],
   "source": [
    "accuracy_dt= round(dt.score(xtrain, ytrain) * 100, 2)\n",
    "accuracy_rf= round(rf.score(xtrain, ytrain) * 100, 2)\n",
    "print(\"Accuracy of Random Forest Classifier is \",accuracy_rf,\"%\")\n",
    "print(\"Accuracy of Decision Tree Classifier is \",accuracy_dt,\"%\")"
   ]
  },
  {
   "cell_type": "markdown",
   "metadata": {},
   "source": [
    "## We see that Random Forest provides a much more accurate model than Decision Tree!"
   ]
  },
  {
   "cell_type": "code",
   "execution_count": null,
   "metadata": {},
   "outputs": [],
   "source": []
  }
 ],
 "metadata": {
  "kernelspec": {
   "display_name": "Python 3",
   "language": "python",
   "name": "python3"
  },
  "language_info": {
   "codemirror_mode": {
    "name": "ipython",
    "version": 3
   },
   "file_extension": ".py",
   "mimetype": "text/x-python",
   "name": "python",
   "nbconvert_exporter": "python",
   "pygments_lexer": "ipython3",
   "version": "3.7.7"
  }
 },
 "nbformat": 4,
 "nbformat_minor": 4
}
